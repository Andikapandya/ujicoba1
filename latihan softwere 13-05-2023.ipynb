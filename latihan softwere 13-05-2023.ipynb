{
 "cells": [
  {
   "cell_type": "code",
   "execution_count": 98,
   "id": "7bbfdfa8",
   "metadata": {},
   "outputs": [],
   "source": [
    "import pandas as pd\n",
    "import sklearn as skl\n",
    "import numpy as np"
   ]
  },
  {
   "cell_type": "code",
   "execution_count": 99,
   "id": "ddbf8f2b",
   "metadata": {},
   "outputs": [
    {
     "name": "stdout",
     "output_type": "stream",
     "text": [
      "      Unnamed: 0  IDENTITAS                  UMUR JENIS_KELAMIN  \\\n",
      "0              0     569520   lebih dari 65 tahun     perempuan   \n",
      "1              1     750365  kurang dari 25 tahun     laki-laki   \n",
      "2              2     199901  kurang dari 25 tahun     perempuan   \n",
      "3              3     478866  kurang dari 25 tahun     laki-laki   \n",
      "4              4     731664    antara 25-40 tahun     laki-laki   \n",
      "...          ...        ...                   ...           ...   \n",
      "9995        9995     323164    antara 25-40 tahun     perempuan   \n",
      "9996        9996     910346    antara 25-40 tahun     perempuan   \n",
      "9997        9997     468409    antara 25-40 tahun     laki-laki   \n",
      "9998        9998     903459    antara 25-40 tahun     perempuan   \n",
      "9999        9999     442696    antara 25-40 tahun     perempuan   \n",
      "\n",
      "      PENGALAMAN_MENGEMUDI   PENDIDIKAN        PENGHASILAN  SKOR_KREDIT  \\\n",
      "0     kurang dari 10 tahun          SMA  lebih dari 3x UMR     0.629027   \n",
      "1     kurang dari 10 tahun    tidak ada    kurang dari UMR     0.357757   \n",
      "2     kurang dari 10 tahun          SMA    antara 1-2x UMR     0.493146   \n",
      "3     kurang dari 10 tahun  universitas    antara 1-2x UMR     0.206013   \n",
      "4       antara 10-20 tahun    tidak ada    antara 1-2x UMR     0.388366   \n",
      "...                    ...          ...                ...          ...   \n",
      "9995    antara 10-20 tahun  universitas  lebih dari 3x UMR     0.582787   \n",
      "9996    antara 10-20 tahun    tidak ada    antara 2-3x UMR     0.522231   \n",
      "9997  kurang dari 10 tahun          SMA    antara 2-3x UMR     0.470940   \n",
      "9998    antara 10-20 tahun          SMA    kurang dari UMR     0.364185   \n",
      "9999  kurang dari 10 tahun    tidak ada    antara 1-2x UMR     0.435225   \n",
      "\n",
      "     PEMILIK_KENDARAAN TAHUN_PRODUKSI         STATUS       ANAK  KODE_POS  \\\n",
      "0                   ya   setelah 2020  belum menikah        ada     10238   \n",
      "1                tidak   sebelum 2020  belum menikah  tidak ada     10238   \n",
      "2                   ya   sebelum 2020  belum menikah  tidak ada     10238   \n",
      "3                   ya   sebelum 2020  belum menikah        ada     32765   \n",
      "4                   ya   sebelum 2020  belum menikah  tidak ada     32765   \n",
      "...                ...            ...            ...        ...       ...   \n",
      "9995                ya   sebelum 2020  belum menikah  tidak ada     10238   \n",
      "9996                ya   setelah 2020  belum menikah        ada     32765   \n",
      "9997                ya   sebelum 2020  belum menikah        ada     10238   \n",
      "9998             tidak   sebelum 2020  belum menikah        ada     10238   \n",
      "9999                ya   sebelum 2020        menikah        ada     10238   \n",
      "\n",
      "      KM_PER_TAHUN JENIS_KENDARAAN  TILANG_NGEBUT  TILANG_MABUK  \\\n",
      "0          12000.0        keluarga              0             0   \n",
      "1          16000.0        keluarga              0             0   \n",
      "2          11000.0        keluarga              0             0   \n",
      "3          11000.0        keluarga              0             0   \n",
      "4          12000.0        keluarga              2             0   \n",
      "...            ...             ...            ...           ...   \n",
      "9995       16000.0        keluarga              0             0   \n",
      "9996           NaN        keluarga              1             0   \n",
      "9997       14000.0        keluarga              0             0   \n",
      "9998       13000.0        keluarga              2             0   \n",
      "9999       13000.0        keluarga              0             0   \n",
      "\n",
      "      KECELAKAAN_SEBELUMNYA  KLAIM  \n",
      "0                         0  tidak  \n",
      "1                         0     ya  \n",
      "2                         0  tidak  \n",
      "3                         0  tidak  \n",
      "4                         1     ya  \n",
      "...                     ...    ...  \n",
      "9995                      1  tidak  \n",
      "9996                      0  tidak  \n",
      "9997                      0  tidak  \n",
      "9998                      1     ya  \n",
      "9999                      0  tidak  \n",
      "\n",
      "[10000 rows x 19 columns]\n"
     ]
    }
   ],
   "source": [
    "df = pd.read_csv ('asuransi_mobil.csv')\n",
    "print (df)"
   ]
  },
  {
   "cell_type": "code",
   "execution_count": 100,
   "id": "472781b8",
   "metadata": {},
   "outputs": [
    {
     "data": {
      "text/html": [
       "<div>\n",
       "<style scoped>\n",
       "    .dataframe tbody tr th:only-of-type {\n",
       "        vertical-align: middle;\n",
       "    }\n",
       "\n",
       "    .dataframe tbody tr th {\n",
       "        vertical-align: top;\n",
       "    }\n",
       "\n",
       "    .dataframe thead th {\n",
       "        text-align: right;\n",
       "    }\n",
       "</style>\n",
       "<table border=\"1\" class=\"dataframe\">\n",
       "  <thead>\n",
       "    <tr style=\"text-align: right;\">\n",
       "      <th></th>\n",
       "      <th>Unnamed: 0</th>\n",
       "      <th>IDENTITAS</th>\n",
       "      <th>UMUR</th>\n",
       "      <th>JENIS_KELAMIN</th>\n",
       "      <th>PENGALAMAN_MENGEMUDI</th>\n",
       "      <th>PENDIDIKAN</th>\n",
       "      <th>PENGHASILAN</th>\n",
       "      <th>SKOR_KREDIT</th>\n",
       "      <th>PEMILIK_KENDARAAN</th>\n",
       "      <th>TAHUN_PRODUKSI</th>\n",
       "      <th>STATUS</th>\n",
       "      <th>ANAK</th>\n",
       "      <th>KODE_POS</th>\n",
       "      <th>KM_PER_TAHUN</th>\n",
       "      <th>JENIS_KENDARAAN</th>\n",
       "      <th>TILANG_NGEBUT</th>\n",
       "      <th>TILANG_MABUK</th>\n",
       "      <th>KECELAKAAN_SEBELUMNYA</th>\n",
       "      <th>KLAIM</th>\n",
       "    </tr>\n",
       "  </thead>\n",
       "  <tbody>\n",
       "    <tr>\n",
       "      <th>0</th>\n",
       "      <td>0</td>\n",
       "      <td>569520</td>\n",
       "      <td>lebih dari 65 tahun</td>\n",
       "      <td>perempuan</td>\n",
       "      <td>kurang dari 10 tahun</td>\n",
       "      <td>SMA</td>\n",
       "      <td>lebih dari 3x UMR</td>\n",
       "      <td>0.629027</td>\n",
       "      <td>ya</td>\n",
       "      <td>setelah 2020</td>\n",
       "      <td>belum menikah</td>\n",
       "      <td>ada</td>\n",
       "      <td>10238</td>\n",
       "      <td>12000.0</td>\n",
       "      <td>keluarga</td>\n",
       "      <td>0</td>\n",
       "      <td>0</td>\n",
       "      <td>0</td>\n",
       "      <td>tidak</td>\n",
       "    </tr>\n",
       "    <tr>\n",
       "      <th>1</th>\n",
       "      <td>1</td>\n",
       "      <td>750365</td>\n",
       "      <td>kurang dari 25 tahun</td>\n",
       "      <td>laki-laki</td>\n",
       "      <td>kurang dari 10 tahun</td>\n",
       "      <td>tidak ada</td>\n",
       "      <td>kurang dari UMR</td>\n",
       "      <td>0.357757</td>\n",
       "      <td>tidak</td>\n",
       "      <td>sebelum 2020</td>\n",
       "      <td>belum menikah</td>\n",
       "      <td>tidak ada</td>\n",
       "      <td>10238</td>\n",
       "      <td>16000.0</td>\n",
       "      <td>keluarga</td>\n",
       "      <td>0</td>\n",
       "      <td>0</td>\n",
       "      <td>0</td>\n",
       "      <td>ya</td>\n",
       "    </tr>\n",
       "    <tr>\n",
       "      <th>2</th>\n",
       "      <td>2</td>\n",
       "      <td>199901</td>\n",
       "      <td>kurang dari 25 tahun</td>\n",
       "      <td>perempuan</td>\n",
       "      <td>kurang dari 10 tahun</td>\n",
       "      <td>SMA</td>\n",
       "      <td>antara 1-2x UMR</td>\n",
       "      <td>0.493146</td>\n",
       "      <td>ya</td>\n",
       "      <td>sebelum 2020</td>\n",
       "      <td>belum menikah</td>\n",
       "      <td>tidak ada</td>\n",
       "      <td>10238</td>\n",
       "      <td>11000.0</td>\n",
       "      <td>keluarga</td>\n",
       "      <td>0</td>\n",
       "      <td>0</td>\n",
       "      <td>0</td>\n",
       "      <td>tidak</td>\n",
       "    </tr>\n",
       "    <tr>\n",
       "      <th>3</th>\n",
       "      <td>3</td>\n",
       "      <td>478866</td>\n",
       "      <td>kurang dari 25 tahun</td>\n",
       "      <td>laki-laki</td>\n",
       "      <td>kurang dari 10 tahun</td>\n",
       "      <td>universitas</td>\n",
       "      <td>antara 1-2x UMR</td>\n",
       "      <td>0.206013</td>\n",
       "      <td>ya</td>\n",
       "      <td>sebelum 2020</td>\n",
       "      <td>belum menikah</td>\n",
       "      <td>ada</td>\n",
       "      <td>32765</td>\n",
       "      <td>11000.0</td>\n",
       "      <td>keluarga</td>\n",
       "      <td>0</td>\n",
       "      <td>0</td>\n",
       "      <td>0</td>\n",
       "      <td>tidak</td>\n",
       "    </tr>\n",
       "    <tr>\n",
       "      <th>4</th>\n",
       "      <td>4</td>\n",
       "      <td>731664</td>\n",
       "      <td>antara 25-40 tahun</td>\n",
       "      <td>laki-laki</td>\n",
       "      <td>antara 10-20 tahun</td>\n",
       "      <td>tidak ada</td>\n",
       "      <td>antara 1-2x UMR</td>\n",
       "      <td>0.388366</td>\n",
       "      <td>ya</td>\n",
       "      <td>sebelum 2020</td>\n",
       "      <td>belum menikah</td>\n",
       "      <td>tidak ada</td>\n",
       "      <td>32765</td>\n",
       "      <td>12000.0</td>\n",
       "      <td>keluarga</td>\n",
       "      <td>2</td>\n",
       "      <td>0</td>\n",
       "      <td>1</td>\n",
       "      <td>ya</td>\n",
       "    </tr>\n",
       "  </tbody>\n",
       "</table>\n",
       "</div>"
      ],
      "text/plain": [
       "   Unnamed: 0  IDENTITAS                  UMUR JENIS_KELAMIN  \\\n",
       "0           0     569520   lebih dari 65 tahun     perempuan   \n",
       "1           1     750365  kurang dari 25 tahun     laki-laki   \n",
       "2           2     199901  kurang dari 25 tahun     perempuan   \n",
       "3           3     478866  kurang dari 25 tahun     laki-laki   \n",
       "4           4     731664    antara 25-40 tahun     laki-laki   \n",
       "\n",
       "   PENGALAMAN_MENGEMUDI   PENDIDIKAN        PENGHASILAN  SKOR_KREDIT  \\\n",
       "0  kurang dari 10 tahun          SMA  lebih dari 3x UMR     0.629027   \n",
       "1  kurang dari 10 tahun    tidak ada    kurang dari UMR     0.357757   \n",
       "2  kurang dari 10 tahun          SMA    antara 1-2x UMR     0.493146   \n",
       "3  kurang dari 10 tahun  universitas    antara 1-2x UMR     0.206013   \n",
       "4    antara 10-20 tahun    tidak ada    antara 1-2x UMR     0.388366   \n",
       "\n",
       "  PEMILIK_KENDARAAN TAHUN_PRODUKSI         STATUS       ANAK  KODE_POS  \\\n",
       "0                ya   setelah 2020  belum menikah        ada     10238   \n",
       "1             tidak   sebelum 2020  belum menikah  tidak ada     10238   \n",
       "2                ya   sebelum 2020  belum menikah  tidak ada     10238   \n",
       "3                ya   sebelum 2020  belum menikah        ada     32765   \n",
       "4                ya   sebelum 2020  belum menikah  tidak ada     32765   \n",
       "\n",
       "   KM_PER_TAHUN JENIS_KENDARAAN  TILANG_NGEBUT  TILANG_MABUK  \\\n",
       "0       12000.0        keluarga              0             0   \n",
       "1       16000.0        keluarga              0             0   \n",
       "2       11000.0        keluarga              0             0   \n",
       "3       11000.0        keluarga              0             0   \n",
       "4       12000.0        keluarga              2             0   \n",
       "\n",
       "   KECELAKAAN_SEBELUMNYA  KLAIM  \n",
       "0                      0  tidak  \n",
       "1                      0     ya  \n",
       "2                      0  tidak  \n",
       "3                      0  tidak  \n",
       "4                      1     ya  "
      ]
     },
     "execution_count": 100,
     "metadata": {},
     "output_type": "execute_result"
    }
   ],
   "source": [
    "df.head()"
   ]
  },
  {
   "cell_type": "code",
   "execution_count": 101,
   "id": "964a1a81",
   "metadata": {},
   "outputs": [
    {
     "data": {
      "text/html": [
       "<div>\n",
       "<style scoped>\n",
       "    .dataframe tbody tr th:only-of-type {\n",
       "        vertical-align: middle;\n",
       "    }\n",
       "\n",
       "    .dataframe tbody tr th {\n",
       "        vertical-align: top;\n",
       "    }\n",
       "\n",
       "    .dataframe thead th {\n",
       "        text-align: right;\n",
       "    }\n",
       "</style>\n",
       "<table border=\"1\" class=\"dataframe\">\n",
       "  <thead>\n",
       "    <tr style=\"text-align: right;\">\n",
       "      <th></th>\n",
       "      <th>Unnamed: 0</th>\n",
       "      <th>IDENTITAS</th>\n",
       "      <th>SKOR_KREDIT</th>\n",
       "      <th>KODE_POS</th>\n",
       "      <th>KM_PER_TAHUN</th>\n",
       "      <th>TILANG_NGEBUT</th>\n",
       "      <th>TILANG_MABUK</th>\n",
       "      <th>KECELAKAAN_SEBELUMNYA</th>\n",
       "    </tr>\n",
       "  </thead>\n",
       "  <tbody>\n",
       "    <tr>\n",
       "      <th>count</th>\n",
       "      <td>10000.00000</td>\n",
       "      <td>10000.000000</td>\n",
       "      <td>9018.000000</td>\n",
       "      <td>10000.000000</td>\n",
       "      <td>9043.000000</td>\n",
       "      <td>10000.000000</td>\n",
       "      <td>10000.00000</td>\n",
       "      <td>10000.000000</td>\n",
       "    </tr>\n",
       "    <tr>\n",
       "      <th>mean</th>\n",
       "      <td>4999.50000</td>\n",
       "      <td>500521.906800</td>\n",
       "      <td>0.515813</td>\n",
       "      <td>19864.548400</td>\n",
       "      <td>11697.003207</td>\n",
       "      <td>1.482900</td>\n",
       "      <td>0.23920</td>\n",
       "      <td>1.056300</td>\n",
       "    </tr>\n",
       "    <tr>\n",
       "      <th>std</th>\n",
       "      <td>2886.89568</td>\n",
       "      <td>290030.768758</td>\n",
       "      <td>0.137688</td>\n",
       "      <td>18915.613855</td>\n",
       "      <td>2818.434528</td>\n",
       "      <td>2.241966</td>\n",
       "      <td>0.55499</td>\n",
       "      <td>1.652454</td>\n",
       "    </tr>\n",
       "    <tr>\n",
       "      <th>min</th>\n",
       "      <td>0.00000</td>\n",
       "      <td>101.000000</td>\n",
       "      <td>0.053358</td>\n",
       "      <td>10238.000000</td>\n",
       "      <td>2000.000000</td>\n",
       "      <td>0.000000</td>\n",
       "      <td>0.00000</td>\n",
       "      <td>0.000000</td>\n",
       "    </tr>\n",
       "    <tr>\n",
       "      <th>25%</th>\n",
       "      <td>2499.75000</td>\n",
       "      <td>249638.500000</td>\n",
       "      <td>0.417191</td>\n",
       "      <td>10238.000000</td>\n",
       "      <td>10000.000000</td>\n",
       "      <td>0.000000</td>\n",
       "      <td>0.00000</td>\n",
       "      <td>0.000000</td>\n",
       "    </tr>\n",
       "    <tr>\n",
       "      <th>50%</th>\n",
       "      <td>4999.50000</td>\n",
       "      <td>501777.000000</td>\n",
       "      <td>0.525033</td>\n",
       "      <td>10238.000000</td>\n",
       "      <td>12000.000000</td>\n",
       "      <td>0.000000</td>\n",
       "      <td>0.00000</td>\n",
       "      <td>0.000000</td>\n",
       "    </tr>\n",
       "    <tr>\n",
       "      <th>75%</th>\n",
       "      <td>7499.25000</td>\n",
       "      <td>753974.500000</td>\n",
       "      <td>0.618312</td>\n",
       "      <td>32765.000000</td>\n",
       "      <td>14000.000000</td>\n",
       "      <td>2.000000</td>\n",
       "      <td>0.00000</td>\n",
       "      <td>2.000000</td>\n",
       "    </tr>\n",
       "    <tr>\n",
       "      <th>max</th>\n",
       "      <td>9999.00000</td>\n",
       "      <td>999976.000000</td>\n",
       "      <td>0.960819</td>\n",
       "      <td>92101.000000</td>\n",
       "      <td>22000.000000</td>\n",
       "      <td>22.000000</td>\n",
       "      <td>6.00000</td>\n",
       "      <td>15.000000</td>\n",
       "    </tr>\n",
       "  </tbody>\n",
       "</table>\n",
       "</div>"
      ],
      "text/plain": [
       "        Unnamed: 0      IDENTITAS  SKOR_KREDIT      KODE_POS  KM_PER_TAHUN  \\\n",
       "count  10000.00000   10000.000000  9018.000000  10000.000000   9043.000000   \n",
       "mean    4999.50000  500521.906800     0.515813  19864.548400  11697.003207   \n",
       "std     2886.89568  290030.768758     0.137688  18915.613855   2818.434528   \n",
       "min        0.00000     101.000000     0.053358  10238.000000   2000.000000   \n",
       "25%     2499.75000  249638.500000     0.417191  10238.000000  10000.000000   \n",
       "50%     4999.50000  501777.000000     0.525033  10238.000000  12000.000000   \n",
       "75%     7499.25000  753974.500000     0.618312  32765.000000  14000.000000   \n",
       "max     9999.00000  999976.000000     0.960819  92101.000000  22000.000000   \n",
       "\n",
       "       TILANG_NGEBUT  TILANG_MABUK  KECELAKAAN_SEBELUMNYA  \n",
       "count   10000.000000   10000.00000           10000.000000  \n",
       "mean        1.482900       0.23920               1.056300  \n",
       "std         2.241966       0.55499               1.652454  \n",
       "min         0.000000       0.00000               0.000000  \n",
       "25%         0.000000       0.00000               0.000000  \n",
       "50%         0.000000       0.00000               0.000000  \n",
       "75%         2.000000       0.00000               2.000000  \n",
       "max        22.000000       6.00000              15.000000  "
      ]
     },
     "execution_count": 101,
     "metadata": {},
     "output_type": "execute_result"
    }
   ],
   "source": [
    "df.describe()"
   ]
  },
  {
   "cell_type": "code",
   "execution_count": 125,
   "id": "d419f72c",
   "metadata": {},
   "outputs": [
    {
     "data": {
      "text/plain": [
       "Index(['Unnamed: 0', 'IDENTITAS', 'UMUR', 'JENIS_KELAMIN',\n",
       "       'PENGALAMAN_MENGEMUDI', 'PENDIDIKAN', 'PENGHASILAN', 'SKOR_KREDIT',\n",
       "       'PEMILIK_KENDARAAN', 'TAHUN_PRODUKSI', 'STATUS', 'ANAK', 'KODE_POS',\n",
       "       'KM_PER_TAHUN', 'JENIS_KENDARAAN', 'TILANG_NGEBUT', 'TILANG_MABUK',\n",
       "       'KECELAKAAN_SEBELUMNYA', 'KLAIM'],\n",
       "      dtype='object')"
      ]
     },
     "execution_count": 125,
     "metadata": {},
     "output_type": "execute_result"
    }
   ],
   "source": [
    "df.columns"
   ]
  },
  {
   "cell_type": "markdown",
   "id": "6ff85b3d",
   "metadata": {},
   "source": [
    "# mengecek keseuaian data"
   ]
  },
  {
   "cell_type": "code",
   "execution_count": 102,
   "id": "9b9c18b0",
   "metadata": {},
   "outputs": [
    {
     "data": {
      "text/plain": [
       "Unnamed: 0                 int64\n",
       "IDENTITAS                  int64\n",
       "UMUR                      object\n",
       "JENIS_KELAMIN             object\n",
       "PENGALAMAN_MENGEMUDI      object\n",
       "PENDIDIKAN                object\n",
       "PENGHASILAN               object\n",
       "SKOR_KREDIT              float64\n",
       "PEMILIK_KENDARAAN         object\n",
       "TAHUN_PRODUKSI            object\n",
       "STATUS                    object\n",
       "ANAK                      object\n",
       "KODE_POS                   int64\n",
       "KM_PER_TAHUN             float64\n",
       "JENIS_KENDARAAN           object\n",
       "TILANG_NGEBUT              int64\n",
       "TILANG_MABUK               int64\n",
       "KECELAKAAN_SEBELUMNYA      int64\n",
       "KLAIM                     object\n",
       "dtype: object"
      ]
     },
     "execution_count": 102,
     "metadata": {},
     "output_type": "execute_result"
    }
   ],
   "source": [
    "df.dtypes"
   ]
  },
  {
   "cell_type": "code",
   "execution_count": 103,
   "id": "7271c940",
   "metadata": {},
   "outputs": [
    {
     "data": {
      "text/plain": [
       "Unnamed: 0                 0\n",
       "IDENTITAS                  0\n",
       "UMUR                       0\n",
       "JENIS_KELAMIN              0\n",
       "PENGALAMAN_MENGEMUDI       0\n",
       "PENDIDIKAN                 0\n",
       "PENGHASILAN                0\n",
       "SKOR_KREDIT              982\n",
       "PEMILIK_KENDARAAN          0\n",
       "TAHUN_PRODUKSI             0\n",
       "STATUS                     0\n",
       "ANAK                       0\n",
       "KODE_POS                   0\n",
       "KM_PER_TAHUN             957\n",
       "JENIS_KENDARAAN            0\n",
       "TILANG_NGEBUT              0\n",
       "TILANG_MABUK               0\n",
       "KECELAKAAN_SEBELUMNYA      0\n",
       "KLAIM                      0\n",
       "dtype: int64"
      ]
     },
     "execution_count": 103,
     "metadata": {},
     "output_type": "execute_result"
    }
   ],
   "source": [
    "df.isnull().sum()"
   ]
  },
  {
   "cell_type": "code",
   "execution_count": 104,
   "id": "1b5ab2b9",
   "metadata": {},
   "outputs": [],
   "source": [
    "droping = ['SKOR_KREDIT','KM_PER_TAHUN']\n",
    "data_drop = df.drop(droping, axis =1) "
   ]
  },
  {
   "cell_type": "code",
   "execution_count": 105,
   "id": "0b669c45",
   "metadata": {},
   "outputs": [
    {
     "data": {
      "text/html": [
       "<div>\n",
       "<style scoped>\n",
       "    .dataframe tbody tr th:only-of-type {\n",
       "        vertical-align: middle;\n",
       "    }\n",
       "\n",
       "    .dataframe tbody tr th {\n",
       "        vertical-align: top;\n",
       "    }\n",
       "\n",
       "    .dataframe thead th {\n",
       "        text-align: right;\n",
       "    }\n",
       "</style>\n",
       "<table border=\"1\" class=\"dataframe\">\n",
       "  <thead>\n",
       "    <tr style=\"text-align: right;\">\n",
       "      <th></th>\n",
       "      <th>Unnamed: 0</th>\n",
       "      <th>IDENTITAS</th>\n",
       "      <th>UMUR</th>\n",
       "      <th>JENIS_KELAMIN</th>\n",
       "      <th>PENGALAMAN_MENGEMUDI</th>\n",
       "      <th>PENDIDIKAN</th>\n",
       "      <th>PENGHASILAN</th>\n",
       "      <th>PEMILIK_KENDARAAN</th>\n",
       "      <th>TAHUN_PRODUKSI</th>\n",
       "      <th>STATUS</th>\n",
       "      <th>ANAK</th>\n",
       "      <th>KODE_POS</th>\n",
       "      <th>JENIS_KENDARAAN</th>\n",
       "      <th>TILANG_NGEBUT</th>\n",
       "      <th>TILANG_MABUK</th>\n",
       "      <th>KECELAKAAN_SEBELUMNYA</th>\n",
       "      <th>KLAIM</th>\n",
       "    </tr>\n",
       "  </thead>\n",
       "  <tbody>\n",
       "    <tr>\n",
       "      <th>0</th>\n",
       "      <td>0</td>\n",
       "      <td>569520</td>\n",
       "      <td>lebih dari 65 tahun</td>\n",
       "      <td>perempuan</td>\n",
       "      <td>kurang dari 10 tahun</td>\n",
       "      <td>SMA</td>\n",
       "      <td>lebih dari 3x UMR</td>\n",
       "      <td>ya</td>\n",
       "      <td>setelah 2020</td>\n",
       "      <td>belum menikah</td>\n",
       "      <td>ada</td>\n",
       "      <td>10238</td>\n",
       "      <td>keluarga</td>\n",
       "      <td>0</td>\n",
       "      <td>0</td>\n",
       "      <td>0</td>\n",
       "      <td>tidak</td>\n",
       "    </tr>\n",
       "    <tr>\n",
       "      <th>1</th>\n",
       "      <td>1</td>\n",
       "      <td>750365</td>\n",
       "      <td>kurang dari 25 tahun</td>\n",
       "      <td>laki-laki</td>\n",
       "      <td>kurang dari 10 tahun</td>\n",
       "      <td>tidak ada</td>\n",
       "      <td>kurang dari UMR</td>\n",
       "      <td>tidak</td>\n",
       "      <td>sebelum 2020</td>\n",
       "      <td>belum menikah</td>\n",
       "      <td>tidak ada</td>\n",
       "      <td>10238</td>\n",
       "      <td>keluarga</td>\n",
       "      <td>0</td>\n",
       "      <td>0</td>\n",
       "      <td>0</td>\n",
       "      <td>ya</td>\n",
       "    </tr>\n",
       "    <tr>\n",
       "      <th>2</th>\n",
       "      <td>2</td>\n",
       "      <td>199901</td>\n",
       "      <td>kurang dari 25 tahun</td>\n",
       "      <td>perempuan</td>\n",
       "      <td>kurang dari 10 tahun</td>\n",
       "      <td>SMA</td>\n",
       "      <td>antara 1-2x UMR</td>\n",
       "      <td>ya</td>\n",
       "      <td>sebelum 2020</td>\n",
       "      <td>belum menikah</td>\n",
       "      <td>tidak ada</td>\n",
       "      <td>10238</td>\n",
       "      <td>keluarga</td>\n",
       "      <td>0</td>\n",
       "      <td>0</td>\n",
       "      <td>0</td>\n",
       "      <td>tidak</td>\n",
       "    </tr>\n",
       "    <tr>\n",
       "      <th>3</th>\n",
       "      <td>3</td>\n",
       "      <td>478866</td>\n",
       "      <td>kurang dari 25 tahun</td>\n",
       "      <td>laki-laki</td>\n",
       "      <td>kurang dari 10 tahun</td>\n",
       "      <td>universitas</td>\n",
       "      <td>antara 1-2x UMR</td>\n",
       "      <td>ya</td>\n",
       "      <td>sebelum 2020</td>\n",
       "      <td>belum menikah</td>\n",
       "      <td>ada</td>\n",
       "      <td>32765</td>\n",
       "      <td>keluarga</td>\n",
       "      <td>0</td>\n",
       "      <td>0</td>\n",
       "      <td>0</td>\n",
       "      <td>tidak</td>\n",
       "    </tr>\n",
       "    <tr>\n",
       "      <th>4</th>\n",
       "      <td>4</td>\n",
       "      <td>731664</td>\n",
       "      <td>antara 25-40 tahun</td>\n",
       "      <td>laki-laki</td>\n",
       "      <td>antara 10-20 tahun</td>\n",
       "      <td>tidak ada</td>\n",
       "      <td>antara 1-2x UMR</td>\n",
       "      <td>ya</td>\n",
       "      <td>sebelum 2020</td>\n",
       "      <td>belum menikah</td>\n",
       "      <td>tidak ada</td>\n",
       "      <td>32765</td>\n",
       "      <td>keluarga</td>\n",
       "      <td>2</td>\n",
       "      <td>0</td>\n",
       "      <td>1</td>\n",
       "      <td>ya</td>\n",
       "    </tr>\n",
       "    <tr>\n",
       "      <th>...</th>\n",
       "      <td>...</td>\n",
       "      <td>...</td>\n",
       "      <td>...</td>\n",
       "      <td>...</td>\n",
       "      <td>...</td>\n",
       "      <td>...</td>\n",
       "      <td>...</td>\n",
       "      <td>...</td>\n",
       "      <td>...</td>\n",
       "      <td>...</td>\n",
       "      <td>...</td>\n",
       "      <td>...</td>\n",
       "      <td>...</td>\n",
       "      <td>...</td>\n",
       "      <td>...</td>\n",
       "      <td>...</td>\n",
       "      <td>...</td>\n",
       "    </tr>\n",
       "    <tr>\n",
       "      <th>9995</th>\n",
       "      <td>9995</td>\n",
       "      <td>323164</td>\n",
       "      <td>antara 25-40 tahun</td>\n",
       "      <td>perempuan</td>\n",
       "      <td>antara 10-20 tahun</td>\n",
       "      <td>universitas</td>\n",
       "      <td>lebih dari 3x UMR</td>\n",
       "      <td>ya</td>\n",
       "      <td>sebelum 2020</td>\n",
       "      <td>belum menikah</td>\n",
       "      <td>tidak ada</td>\n",
       "      <td>10238</td>\n",
       "      <td>keluarga</td>\n",
       "      <td>0</td>\n",
       "      <td>0</td>\n",
       "      <td>1</td>\n",
       "      <td>tidak</td>\n",
       "    </tr>\n",
       "    <tr>\n",
       "      <th>9996</th>\n",
       "      <td>9996</td>\n",
       "      <td>910346</td>\n",
       "      <td>antara 25-40 tahun</td>\n",
       "      <td>perempuan</td>\n",
       "      <td>antara 10-20 tahun</td>\n",
       "      <td>tidak ada</td>\n",
       "      <td>antara 2-3x UMR</td>\n",
       "      <td>ya</td>\n",
       "      <td>setelah 2020</td>\n",
       "      <td>belum menikah</td>\n",
       "      <td>ada</td>\n",
       "      <td>32765</td>\n",
       "      <td>keluarga</td>\n",
       "      <td>1</td>\n",
       "      <td>0</td>\n",
       "      <td>0</td>\n",
       "      <td>tidak</td>\n",
       "    </tr>\n",
       "    <tr>\n",
       "      <th>9997</th>\n",
       "      <td>9997</td>\n",
       "      <td>468409</td>\n",
       "      <td>antara 25-40 tahun</td>\n",
       "      <td>laki-laki</td>\n",
       "      <td>kurang dari 10 tahun</td>\n",
       "      <td>SMA</td>\n",
       "      <td>antara 2-3x UMR</td>\n",
       "      <td>ya</td>\n",
       "      <td>sebelum 2020</td>\n",
       "      <td>belum menikah</td>\n",
       "      <td>ada</td>\n",
       "      <td>10238</td>\n",
       "      <td>keluarga</td>\n",
       "      <td>0</td>\n",
       "      <td>0</td>\n",
       "      <td>0</td>\n",
       "      <td>tidak</td>\n",
       "    </tr>\n",
       "    <tr>\n",
       "      <th>9998</th>\n",
       "      <td>9998</td>\n",
       "      <td>903459</td>\n",
       "      <td>antara 25-40 tahun</td>\n",
       "      <td>perempuan</td>\n",
       "      <td>antara 10-20 tahun</td>\n",
       "      <td>SMA</td>\n",
       "      <td>kurang dari UMR</td>\n",
       "      <td>tidak</td>\n",
       "      <td>sebelum 2020</td>\n",
       "      <td>belum menikah</td>\n",
       "      <td>ada</td>\n",
       "      <td>10238</td>\n",
       "      <td>keluarga</td>\n",
       "      <td>2</td>\n",
       "      <td>0</td>\n",
       "      <td>1</td>\n",
       "      <td>ya</td>\n",
       "    </tr>\n",
       "    <tr>\n",
       "      <th>9999</th>\n",
       "      <td>9999</td>\n",
       "      <td>442696</td>\n",
       "      <td>antara 25-40 tahun</td>\n",
       "      <td>perempuan</td>\n",
       "      <td>kurang dari 10 tahun</td>\n",
       "      <td>tidak ada</td>\n",
       "      <td>antara 1-2x UMR</td>\n",
       "      <td>ya</td>\n",
       "      <td>sebelum 2020</td>\n",
       "      <td>menikah</td>\n",
       "      <td>ada</td>\n",
       "      <td>10238</td>\n",
       "      <td>keluarga</td>\n",
       "      <td>0</td>\n",
       "      <td>0</td>\n",
       "      <td>0</td>\n",
       "      <td>tidak</td>\n",
       "    </tr>\n",
       "  </tbody>\n",
       "</table>\n",
       "<p>10000 rows × 17 columns</p>\n",
       "</div>"
      ],
      "text/plain": [
       "      Unnamed: 0  IDENTITAS                  UMUR JENIS_KELAMIN  \\\n",
       "0              0     569520   lebih dari 65 tahun     perempuan   \n",
       "1              1     750365  kurang dari 25 tahun     laki-laki   \n",
       "2              2     199901  kurang dari 25 tahun     perempuan   \n",
       "3              3     478866  kurang dari 25 tahun     laki-laki   \n",
       "4              4     731664    antara 25-40 tahun     laki-laki   \n",
       "...          ...        ...                   ...           ...   \n",
       "9995        9995     323164    antara 25-40 tahun     perempuan   \n",
       "9996        9996     910346    antara 25-40 tahun     perempuan   \n",
       "9997        9997     468409    antara 25-40 tahun     laki-laki   \n",
       "9998        9998     903459    antara 25-40 tahun     perempuan   \n",
       "9999        9999     442696    antara 25-40 tahun     perempuan   \n",
       "\n",
       "      PENGALAMAN_MENGEMUDI   PENDIDIKAN        PENGHASILAN PEMILIK_KENDARAAN  \\\n",
       "0     kurang dari 10 tahun          SMA  lebih dari 3x UMR                ya   \n",
       "1     kurang dari 10 tahun    tidak ada    kurang dari UMR             tidak   \n",
       "2     kurang dari 10 tahun          SMA    antara 1-2x UMR                ya   \n",
       "3     kurang dari 10 tahun  universitas    antara 1-2x UMR                ya   \n",
       "4       antara 10-20 tahun    tidak ada    antara 1-2x UMR                ya   \n",
       "...                    ...          ...                ...               ...   \n",
       "9995    antara 10-20 tahun  universitas  lebih dari 3x UMR                ya   \n",
       "9996    antara 10-20 tahun    tidak ada    antara 2-3x UMR                ya   \n",
       "9997  kurang dari 10 tahun          SMA    antara 2-3x UMR                ya   \n",
       "9998    antara 10-20 tahun          SMA    kurang dari UMR             tidak   \n",
       "9999  kurang dari 10 tahun    tidak ada    antara 1-2x UMR                ya   \n",
       "\n",
       "     TAHUN_PRODUKSI         STATUS       ANAK  KODE_POS JENIS_KENDARAAN  \\\n",
       "0      setelah 2020  belum menikah        ada     10238        keluarga   \n",
       "1      sebelum 2020  belum menikah  tidak ada     10238        keluarga   \n",
       "2      sebelum 2020  belum menikah  tidak ada     10238        keluarga   \n",
       "3      sebelum 2020  belum menikah        ada     32765        keluarga   \n",
       "4      sebelum 2020  belum menikah  tidak ada     32765        keluarga   \n",
       "...             ...            ...        ...       ...             ...   \n",
       "9995   sebelum 2020  belum menikah  tidak ada     10238        keluarga   \n",
       "9996   setelah 2020  belum menikah        ada     32765        keluarga   \n",
       "9997   sebelum 2020  belum menikah        ada     10238        keluarga   \n",
       "9998   sebelum 2020  belum menikah        ada     10238        keluarga   \n",
       "9999   sebelum 2020        menikah        ada     10238        keluarga   \n",
       "\n",
       "      TILANG_NGEBUT  TILANG_MABUK  KECELAKAAN_SEBELUMNYA  KLAIM  \n",
       "0                 0             0                      0  tidak  \n",
       "1                 0             0                      0     ya  \n",
       "2                 0             0                      0  tidak  \n",
       "3                 0             0                      0  tidak  \n",
       "4                 2             0                      1     ya  \n",
       "...             ...           ...                    ...    ...  \n",
       "9995              0             0                      1  tidak  \n",
       "9996              1             0                      0  tidak  \n",
       "9997              0             0                      0  tidak  \n",
       "9998              2             0                      1     ya  \n",
       "9999              0             0                      0  tidak  \n",
       "\n",
       "[10000 rows x 17 columns]"
      ]
     },
     "execution_count": 105,
     "metadata": {},
     "output_type": "execute_result"
    }
   ],
   "source": [
    "data_drop"
   ]
  },
  {
   "cell_type": "code",
   "execution_count": 106,
   "id": "1c8473e3",
   "metadata": {},
   "outputs": [
    {
     "data": {
      "text/plain": [
       "Unnamed: 0                int64\n",
       "IDENTITAS                 int64\n",
       "UMUR                     object\n",
       "JENIS_KELAMIN            object\n",
       "PENGALAMAN_MENGEMUDI     object\n",
       "PENDIDIKAN               object\n",
       "PENGHASILAN              object\n",
       "PEMILIK_KENDARAAN        object\n",
       "TAHUN_PRODUKSI           object\n",
       "STATUS                   object\n",
       "ANAK                     object\n",
       "KODE_POS                  int64\n",
       "JENIS_KENDARAAN          object\n",
       "TILANG_NGEBUT             int64\n",
       "TILANG_MABUK              int64\n",
       "KECELAKAAN_SEBELUMNYA     int64\n",
       "KLAIM                    object\n",
       "dtype: object"
      ]
     },
     "execution_count": 106,
     "metadata": {},
     "output_type": "execute_result"
    }
   ],
   "source": [
    "data_drop.dtypes"
   ]
  },
  {
   "cell_type": "code",
   "execution_count": 107,
   "id": "26ea54b2",
   "metadata": {},
   "outputs": [
    {
     "data": {
      "text/plain": [
       "array(['lebih dari 65 tahun', 'kurang dari 25 tahun',\n",
       "       'antara 25-40 tahun', 'antara 40-65 tahun'], dtype=object)"
      ]
     },
     "execution_count": 107,
     "metadata": {},
     "output_type": "execute_result"
    }
   ],
   "source": [
    "#melihat isi kolom umur\n",
    "data_drop.UMUR.unique()"
   ]
  },
  {
   "cell_type": "code",
   "execution_count": 108,
   "id": "ba386745",
   "metadata": {},
   "outputs": [
    {
     "data": {
      "text/plain": [
       "<bound method Series.unique of 0       perempuan\n",
       "1       laki-laki\n",
       "2       perempuan\n",
       "3       laki-laki\n",
       "4       laki-laki\n",
       "          ...    \n",
       "9995    perempuan\n",
       "9996    perempuan\n",
       "9997    laki-laki\n",
       "9998    perempuan\n",
       "9999    perempuan\n",
       "Name: JENIS_KELAMIN, Length: 10000, dtype: object>"
      ]
     },
     "execution_count": 108,
     "metadata": {},
     "output_type": "execute_result"
    }
   ],
   "source": [
    "#melihat isi kolom jenis kelamin\n",
    "data_drop.JENIS_KELAMIN.unique"
   ]
  },
  {
   "cell_type": "code",
   "execution_count": 129,
   "id": "73267f3f",
   "metadata": {},
   "outputs": [
    {
     "data": {
      "text/plain": [
       "array(['kurang dari 10 tahun', 'antara 10-20 tahun', 'antara 20-30 tahun',\n",
       "       'lebih dari 30 tahun'], dtype=object)"
      ]
     },
     "execution_count": 129,
     "metadata": {},
     "output_type": "execute_result"
    }
   ],
   "source": [
    "#melihat isi kolom pengalaman mengemudi\n",
    "data_drop.PENGALAMAN_MENGEMUDI.unique()"
   ]
  },
  {
   "cell_type": "code",
   "execution_count": 132,
   "id": "1968efd3",
   "metadata": {},
   "outputs": [],
   "source": [
    "data_drop['PENGALAMAN_MENGEMUDI'] = \\\n",
    "data_drop['PENGALAMAN_MENGEMUDI'].map({'lebih dari 30 tahun':3,'antara 20-30 tahun':2,'kurang dari 10 tahun':0,'antara 10-20 tahun':1})"
   ]
  },
  {
   "cell_type": "code",
   "execution_count": 131,
   "id": "ac7ce5f3",
   "metadata": {},
   "outputs": [
    {
     "data": {
      "text/plain": [
       "array(['SMA', 'tidak ada', 'universitas'], dtype=object)"
      ]
     },
     "execution_count": 131,
     "metadata": {},
     "output_type": "execute_result"
    }
   ],
   "source": [
    "#melihat isi kolom pendidikan\n",
    "data_drop.PENDIDIKAN.unique()"
   ]
  },
  {
   "cell_type": "code",
   "execution_count": 111,
   "id": "ce0da6ae",
   "metadata": {},
   "outputs": [],
   "source": [
    "#melakukan mapping tingkatan\n",
    "df['PENDIDIKAN'] = \\\n",
    "df['PENDIDIKAN'].map({'lulus universitas':5,'lulus SMA':3,'lulus SMP':2,'lulus diploma':4,'tidak lulus SD':0,'lulus SD':1})"
   ]
  },
  {
   "cell_type": "code",
   "execution_count": 112,
   "id": "68b6bd91",
   "metadata": {},
   "outputs": [
    {
     "data": {
      "text/plain": [
       "<bound method Series.unique of 0       lebih dari 3x UMR\n",
       "1         kurang dari UMR\n",
       "2         antara 1-2x UMR\n",
       "3         antara 1-2x UMR\n",
       "4         antara 1-2x UMR\n",
       "              ...        \n",
       "9995    lebih dari 3x UMR\n",
       "9996      antara 2-3x UMR\n",
       "9997      antara 2-3x UMR\n",
       "9998      kurang dari UMR\n",
       "9999      antara 1-2x UMR\n",
       "Name: PENGHASILAN, Length: 10000, dtype: object>"
      ]
     },
     "execution_count": 112,
     "metadata": {},
     "output_type": "execute_result"
    }
   ],
   "source": [
    "#melihat isi kolom penghasilan\n",
    "data_drop.PENGHASILAN.unique"
   ]
  },
  {
   "cell_type": "markdown",
   "id": "9833e75c",
   "metadata": {},
   "source": [
    "# data Kategori binner"
   ]
  },
  {
   "cell_type": "code",
   "execution_count": 113,
   "id": "2ead15e9",
   "metadata": {},
   "outputs": [
    {
     "data": {
      "text/plain": [
       "array(['ya', 'tidak'], dtype=object)"
      ]
     },
     "execution_count": 113,
     "metadata": {},
     "output_type": "execute_result"
    }
   ],
   "source": [
    "#pemilik kendaraan\n",
    "data_drop.PEMILIK_KENDARAAN.unique()"
   ]
  },
  {
   "cell_type": "code",
   "execution_count": 114,
   "id": "2ec06466",
   "metadata": {},
   "outputs": [],
   "source": [
    "data_drop['PEMILIK_KENDARAAN'] = \\\n",
    "data_drop['PEMILIK_KENDARAAN'].map({'tidak':0,'ya':1})"
   ]
  },
  {
   "cell_type": "code",
   "execution_count": 115,
   "id": "34a52fb7",
   "metadata": {},
   "outputs": [
    {
     "data": {
      "text/plain": [
       "array(['setelah 2020', 'sebelum 2020'], dtype=object)"
      ]
     },
     "execution_count": 115,
     "metadata": {},
     "output_type": "execute_result"
    }
   ],
   "source": [
    "#TAHUN_PRODUKSI\n",
    "data_drop.TAHUN_PRODUKSI.unique()"
   ]
  },
  {
   "cell_type": "code",
   "execution_count": 116,
   "id": "09e6f96e",
   "metadata": {},
   "outputs": [],
   "source": [
    "data_drop['TAHUN_PRODUKSI'] = \\\n",
    "data_drop['TAHUN_PRODUKSI'].map({'sebelum 2020':0,'setelah 2020':1})"
   ]
  },
  {
   "cell_type": "code",
   "execution_count": 117,
   "id": "ee476cf6",
   "metadata": {},
   "outputs": [
    {
     "data": {
      "text/plain": [
       "array(['belum menikah', 'menikah'], dtype=object)"
      ]
     },
     "execution_count": 117,
     "metadata": {},
     "output_type": "execute_result"
    }
   ],
   "source": [
    "#STATUS\n",
    "data_drop.STATUS.unique()"
   ]
  },
  {
   "cell_type": "code",
   "execution_count": 118,
   "id": "91ffc373",
   "metadata": {},
   "outputs": [],
   "source": [
    "data_drop['STATUS'] = \\\n",
    "data_drop['STATUS'].map({'belum menikah':0,'menikah':1})"
   ]
  },
  {
   "cell_type": "code",
   "execution_count": 119,
   "id": "afb8937f",
   "metadata": {},
   "outputs": [
    {
     "data": {
      "text/plain": [
       "array(['ada', 'tidak ada'], dtype=object)"
      ]
     },
     "execution_count": 119,
     "metadata": {},
     "output_type": "execute_result"
    }
   ],
   "source": [
    "#ANAK\n",
    "data_drop.ANAK.unique()"
   ]
  },
  {
   "cell_type": "code",
   "execution_count": 120,
   "id": "345f8104",
   "metadata": {},
   "outputs": [],
   "source": [
    "data_drop['ANAK'] = \\\n",
    "data_drop['ANAK'].map({'tidak ada':0,'ada':1})"
   ]
  },
  {
   "cell_type": "code",
   "execution_count": 121,
   "id": "aeb6ee93",
   "metadata": {},
   "outputs": [
    {
     "data": {
      "text/plain": [
       "array(['keluarga', 'sport'], dtype=object)"
      ]
     },
     "execution_count": 121,
     "metadata": {},
     "output_type": "execute_result"
    }
   ],
   "source": [
    "#JENIS_KENDARAAN\n",
    "data_drop.JENIS_KENDARAAN.unique()"
   ]
  },
  {
   "cell_type": "code",
   "execution_count": 122,
   "id": "d1841f00",
   "metadata": {},
   "outputs": [],
   "source": [
    "data_drop['JENIS_KENDARAAN'] = \\\n",
    "data_drop['JENIS_KENDARAAN'].map({'keluarga':0,'sport':1})"
   ]
  },
  {
   "cell_type": "code",
   "execution_count": 123,
   "id": "5026c4a5",
   "metadata": {},
   "outputs": [
    {
     "data": {
      "text/plain": [
       "array(['tidak', 'ya'], dtype=object)"
      ]
     },
     "execution_count": 123,
     "metadata": {},
     "output_type": "execute_result"
    }
   ],
   "source": [
    "#KLAIM\n",
    "data_drop.KLAIM.unique()"
   ]
  },
  {
   "cell_type": "code",
   "execution_count": 124,
   "id": "e30921aa",
   "metadata": {},
   "outputs": [],
   "source": [
    "data_drop['KLAIM'] = \\\n",
    "data_drop['KLAIM'].map({'tidak':0,'ya':1})"
   ]
  },
  {
   "cell_type": "code",
   "execution_count": 127,
   "id": "6cc2fe6c",
   "metadata": {},
   "outputs": [],
   "source": [
    "#mengganti wadah dari data_drop jadi data\n",
    "data = data_drop"
   ]
  },
  {
   "cell_type": "code",
   "execution_count": 128,
   "id": "4f86ee99",
   "metadata": {},
   "outputs": [
    {
     "data": {
      "text/html": [
       "<div>\n",
       "<style scoped>\n",
       "    .dataframe tbody tr th:only-of-type {\n",
       "        vertical-align: middle;\n",
       "    }\n",
       "\n",
       "    .dataframe tbody tr th {\n",
       "        vertical-align: top;\n",
       "    }\n",
       "\n",
       "    .dataframe thead th {\n",
       "        text-align: right;\n",
       "    }\n",
       "</style>\n",
       "<table border=\"1\" class=\"dataframe\">\n",
       "  <thead>\n",
       "    <tr style=\"text-align: right;\">\n",
       "      <th></th>\n",
       "      <th>Unnamed: 0</th>\n",
       "      <th>IDENTITAS</th>\n",
       "      <th>UMUR</th>\n",
       "      <th>JENIS_KELAMIN</th>\n",
       "      <th>PENGALAMAN_MENGEMUDI</th>\n",
       "      <th>PENDIDIKAN</th>\n",
       "      <th>PENGHASILAN</th>\n",
       "      <th>PEMILIK_KENDARAAN</th>\n",
       "      <th>TAHUN_PRODUKSI</th>\n",
       "      <th>STATUS</th>\n",
       "      <th>ANAK</th>\n",
       "      <th>KODE_POS</th>\n",
       "      <th>JENIS_KENDARAAN</th>\n",
       "      <th>TILANG_NGEBUT</th>\n",
       "      <th>TILANG_MABUK</th>\n",
       "      <th>KECELAKAAN_SEBELUMNYA</th>\n",
       "      <th>KLAIM</th>\n",
       "    </tr>\n",
       "  </thead>\n",
       "  <tbody>\n",
       "    <tr>\n",
       "      <th>0</th>\n",
       "      <td>0</td>\n",
       "      <td>569520</td>\n",
       "      <td>lebih dari 65 tahun</td>\n",
       "      <td>perempuan</td>\n",
       "      <td>kurang dari 10 tahun</td>\n",
       "      <td>SMA</td>\n",
       "      <td>lebih dari 3x UMR</td>\n",
       "      <td>1</td>\n",
       "      <td>1</td>\n",
       "      <td>0</td>\n",
       "      <td>1</td>\n",
       "      <td>10238</td>\n",
       "      <td>0</td>\n",
       "      <td>0</td>\n",
       "      <td>0</td>\n",
       "      <td>0</td>\n",
       "      <td>0</td>\n",
       "    </tr>\n",
       "    <tr>\n",
       "      <th>1</th>\n",
       "      <td>1</td>\n",
       "      <td>750365</td>\n",
       "      <td>kurang dari 25 tahun</td>\n",
       "      <td>laki-laki</td>\n",
       "      <td>kurang dari 10 tahun</td>\n",
       "      <td>tidak ada</td>\n",
       "      <td>kurang dari UMR</td>\n",
       "      <td>0</td>\n",
       "      <td>0</td>\n",
       "      <td>0</td>\n",
       "      <td>0</td>\n",
       "      <td>10238</td>\n",
       "      <td>0</td>\n",
       "      <td>0</td>\n",
       "      <td>0</td>\n",
       "      <td>0</td>\n",
       "      <td>1</td>\n",
       "    </tr>\n",
       "    <tr>\n",
       "      <th>2</th>\n",
       "      <td>2</td>\n",
       "      <td>199901</td>\n",
       "      <td>kurang dari 25 tahun</td>\n",
       "      <td>perempuan</td>\n",
       "      <td>kurang dari 10 tahun</td>\n",
       "      <td>SMA</td>\n",
       "      <td>antara 1-2x UMR</td>\n",
       "      <td>1</td>\n",
       "      <td>0</td>\n",
       "      <td>0</td>\n",
       "      <td>0</td>\n",
       "      <td>10238</td>\n",
       "      <td>0</td>\n",
       "      <td>0</td>\n",
       "      <td>0</td>\n",
       "      <td>0</td>\n",
       "      <td>0</td>\n",
       "    </tr>\n",
       "    <tr>\n",
       "      <th>3</th>\n",
       "      <td>3</td>\n",
       "      <td>478866</td>\n",
       "      <td>kurang dari 25 tahun</td>\n",
       "      <td>laki-laki</td>\n",
       "      <td>kurang dari 10 tahun</td>\n",
       "      <td>universitas</td>\n",
       "      <td>antara 1-2x UMR</td>\n",
       "      <td>1</td>\n",
       "      <td>0</td>\n",
       "      <td>0</td>\n",
       "      <td>1</td>\n",
       "      <td>32765</td>\n",
       "      <td>0</td>\n",
       "      <td>0</td>\n",
       "      <td>0</td>\n",
       "      <td>0</td>\n",
       "      <td>0</td>\n",
       "    </tr>\n",
       "    <tr>\n",
       "      <th>4</th>\n",
       "      <td>4</td>\n",
       "      <td>731664</td>\n",
       "      <td>antara 25-40 tahun</td>\n",
       "      <td>laki-laki</td>\n",
       "      <td>antara 10-20 tahun</td>\n",
       "      <td>tidak ada</td>\n",
       "      <td>antara 1-2x UMR</td>\n",
       "      <td>1</td>\n",
       "      <td>0</td>\n",
       "      <td>0</td>\n",
       "      <td>0</td>\n",
       "      <td>32765</td>\n",
       "      <td>0</td>\n",
       "      <td>2</td>\n",
       "      <td>0</td>\n",
       "      <td>1</td>\n",
       "      <td>1</td>\n",
       "    </tr>\n",
       "  </tbody>\n",
       "</table>\n",
       "</div>"
      ],
      "text/plain": [
       "   Unnamed: 0  IDENTITAS                  UMUR JENIS_KELAMIN  \\\n",
       "0           0     569520   lebih dari 65 tahun     perempuan   \n",
       "1           1     750365  kurang dari 25 tahun     laki-laki   \n",
       "2           2     199901  kurang dari 25 tahun     perempuan   \n",
       "3           3     478866  kurang dari 25 tahun     laki-laki   \n",
       "4           4     731664    antara 25-40 tahun     laki-laki   \n",
       "\n",
       "   PENGALAMAN_MENGEMUDI   PENDIDIKAN        PENGHASILAN  PEMILIK_KENDARAAN  \\\n",
       "0  kurang dari 10 tahun          SMA  lebih dari 3x UMR                  1   \n",
       "1  kurang dari 10 tahun    tidak ada    kurang dari UMR                  0   \n",
       "2  kurang dari 10 tahun          SMA    antara 1-2x UMR                  1   \n",
       "3  kurang dari 10 tahun  universitas    antara 1-2x UMR                  1   \n",
       "4    antara 10-20 tahun    tidak ada    antara 1-2x UMR                  1   \n",
       "\n",
       "   TAHUN_PRODUKSI  STATUS  ANAK  KODE_POS  JENIS_KENDARAAN  TILANG_NGEBUT  \\\n",
       "0               1       0     1     10238                0              0   \n",
       "1               0       0     0     10238                0              0   \n",
       "2               0       0     0     10238                0              0   \n",
       "3               0       0     1     32765                0              0   \n",
       "4               0       0     0     32765                0              2   \n",
       "\n",
       "   TILANG_MABUK  KECELAKAAN_SEBELUMNYA  KLAIM  \n",
       "0             0                      0      0  \n",
       "1             0                      0      1  \n",
       "2             0                      0      0  \n",
       "3             0                      0      0  \n",
       "4             0                      1      1  "
      ]
     },
     "execution_count": 128,
     "metadata": {},
     "output_type": "execute_result"
    }
   ],
   "source": [
    "data.head()"
   ]
  },
  {
   "cell_type": "code",
   "execution_count": null,
   "id": "b4671904",
   "metadata": {},
   "outputs": [],
   "source": []
  }
 ],
 "metadata": {
  "kernelspec": {
   "display_name": "Python 3 (ipykernel)",
   "language": "python",
   "name": "python3"
  },
  "language_info": {
   "codemirror_mode": {
    "name": "ipython",
    "version": 3
   },
   "file_extension": ".py",
   "mimetype": "text/x-python",
   "name": "python",
   "nbconvert_exporter": "python",
   "pygments_lexer": "ipython3",
   "version": "3.9.13"
  }
 },
 "nbformat": 4,
 "nbformat_minor": 5
}
